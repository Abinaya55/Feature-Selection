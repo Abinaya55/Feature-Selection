{
 "cells": [
  {
   "cell_type": "code",
   "execution_count": 3,
   "metadata": {},
   "outputs": [
    {
     "name": "stdout",
     "output_type": "stream",
     "text": [
      "[ 12.8947916122  61.9167386771   3.2457450939  21.2702851751\n",
      "  42.472251979   19.7236744354  45.2009487919 105.8564338501\n",
      "  10.103289121    3.64231688   229.7347722751]\n",
      "[[8.10e+00 2.80e-01 6.90e+00 5.00e-02 3.00e+01]\n",
      " [6.20e+00 3.20e-01 7.00e+00 4.50e-02 3.00e+01]\n",
      " [7.00e+00 2.70e-01 2.07e+01 4.50e-02 4.50e+01]\n",
      " [6.30e+00 3.00e-01 1.60e+00 4.90e-02 1.40e+01]\n",
      " [8.10e+00 2.20e-01 1.50e+00 4.40e-02 2.80e+01]]\n"
     ]
    }
   ],
   "source": [
    "import pandas as pd \n",
    "import numpy as np\n",
    "wine = pd.read_csv(\"winequality.csv\") # IMPORT THE DATASET\n",
    "#print(wine)\n",
    "\n",
    "attribute = ['fixed acidity', 'volatile acidity', 'citric acid', 'residual sugar', 'chlorides', 'free sulfur dioxide', 'total sulfur dioxide', 'density', 'pH', 'sulphates', 'alcohol']\n",
    "x=wine[attribute]\n",
    "# print(x)\n",
    "y=wine.quality\n",
    "# print(y)\n",
    "from sklearn.feature_selection import  SelectKBest,f_classif\n",
    "from numpy import set_printoptions\n",
    "# feature extraction\n",
    "\n",
    "test = SelectKBest(score_func=f_classif, k=9) # k value can be changed if required \n",
    "fit = test.fit(x,y)\n",
    "\n",
    "# summarize scores\n",
    "\n",
    "set_printoptions(precision=10)                  \n",
    "print(fit.scores_)\n",
    "features = fit.transform(x)\n",
    "\n",
    "# summarize selected features \n",
    "print(features[5:10,:5])                        \n"
   ]
  }
 ],
 "metadata": {
  "kernelspec": {
   "display_name": "Python 3",
   "language": "python",
   "name": "python3"
  },
  "language_info": {
   "codemirror_mode": {
    "name": "ipython",
    "version": 3
   },
   "file_extension": ".py",
   "mimetype": "text/x-python",
   "name": "python",
   "nbconvert_exporter": "python",
   "pygments_lexer": "ipython3",
   "version": "3.7.6"
  }
 },
 "nbformat": 4,
 "nbformat_minor": 4
}
