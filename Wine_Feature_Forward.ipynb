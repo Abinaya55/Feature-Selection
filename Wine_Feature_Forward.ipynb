{
 "cells": [
  {
   "cell_type": "code",
   "execution_count": 8,
   "metadata": {},
   "outputs": [
    {
     "name": "stdout",
     "output_type": "stream",
     "text": [
      "Index(['volatile acidity', 'citric acid', 'total sulfur dioxide', 'alcohol'], dtype='object')\n",
      "0.49408580183861084\n"
     ]
    }
   ],
   "source": [
    "import pandas as pd \n",
    "import numpy as np\n",
    "wine = pd.read_csv(\"winequality.csv\") # IMPORT THE DATASET\n",
    "#print(wine)\n",
    "\n",
    "attribute = ['fixed acidity', 'volatile acidity', 'citric acid', 'residual sugar', 'chlorides', 'free sulfur dioxide', 'total sulfur dioxide', 'density', 'pH', 'sulphates', 'alcohol']\n",
    "x=wine[attribute]\n",
    "# print(x)\n",
    "y=wine.quality\n",
    "# print(y)\n",
    "import mlxtend\n",
    "from sklearn.ensemble import RandomForestClassifier  # WE CAN IMPLEMENT ANY CLASSIFIER\n",
    "from mlxtend.feature_selection import SequentialFeatureSelector\n",
    "s = SequentialFeatureSelector(RandomForestClassifier(),\n",
    "    k_features=4,    # NUMBER OF IMPORTANT FEATURES TO BE DISPLAYED AFTER BACKWARD ELIMINATION\n",
    "    forward=True, \n",
    "    floating=False,\n",
    "    scoring='accuracy',\n",
    "    cv=5)           # HERE CV VALUE CAN BE CHANGED TO GET MORE ACCURACY FOR THE FEATURE SELECTION\n",
    "s = s.fit(x,y)\n",
    "selected_features = x.columns[list(s.k_feature_idx_)]\n",
    "\n",
    "print(selected_features)\n",
    "print(s.k_score_)\n"
   ]
  },
  {
   "cell_type": "code",
   "execution_count": null,
   "metadata": {},
   "outputs": [],
   "source": []
  }
 ],
 "metadata": {
  "kernelspec": {
   "display_name": "Python 3",
   "language": "python",
   "name": "python3"
  },
  "language_info": {
   "codemirror_mode": {
    "name": "ipython",
    "version": 3
   },
   "file_extension": ".py",
   "mimetype": "text/x-python",
   "name": "python",
   "nbconvert_exporter": "python",
   "pygments_lexer": "ipython3",
   "version": "3.7.6"
  }
 },
 "nbformat": 4,
 "nbformat_minor": 4
}
