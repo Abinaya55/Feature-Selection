{
 "cells": [
  {
   "cell_type": "code",
   "execution_count": 1,
   "metadata": {},
   "outputs": [
    {
     "data": {
      "text/plain": [
       "array([[ 7.  ,  0.27,  0.36, ...,  3.  ,  0.45,  8.8 ],\n",
       "       [ 6.3 ,  0.3 ,  0.34, ...,  3.3 ,  0.49,  9.5 ],\n",
       "       [ 8.1 ,  0.28,  0.4 , ...,  3.26,  0.44, 10.1 ],\n",
       "       ...,\n",
       "       [ 6.5 ,  0.24,  0.19, ...,  2.99,  0.46,  9.4 ],\n",
       "       [ 5.5 ,  0.29,  0.3 , ...,  3.34,  0.38, 12.8 ],\n",
       "       [ 6.  ,  0.21,  0.38, ...,  3.26,  0.32, 11.8 ]])"
      ]
     },
     "execution_count": 1,
     "metadata": {},
     "output_type": "execute_result"
    }
   ],
   "source": [
    "import pandas as pd \n",
    "import numpy as np\n",
    "wine = pd.read_csv(\"winequality.csv\") # IMPORT THE DATASET\n",
    "#print(wine)\n",
    "\n",
    "attribute = ['fixed acidity', 'volatile acidity', 'citric acid', 'residual sugar', 'chlorides', 'free sulfur dioxide', 'total sulfur dioxide', 'density', 'pH', 'sulphates', 'alcohol']\n",
    "x=wine[attribute]\n",
    "# print(x)\n",
    "y=wine.quality\n",
    "# print(y)\n",
    "#univarient feature selection- variance threshold\n",
    "from sklearn.feature_selection import VarianceThreshold\n",
    "selector= VarianceThreshold(threshold=0.0) #threshold value can be changed\n",
    "selector.fit_transform(x,y)\n",
    "\n",
    "\n",
    "#univarient feature selection- variance threshold\n",
    "from sklearn.feature_selection import VarianceThreshold\n",
    "selector= VarianceThreshold(threshold=10.2) #threshold value can be changed\n",
    "selector.fit_transform(x,y)\n",
    "\n",
    "#univarient feature selection- variance threshold\n",
    "from sklearn.feature_selection import VarianceThreshold\n",
    "selector= VarianceThreshold(threshold=-5.7) #threshold value can be changed\n",
    "selector.fit_transform(x,y)"
   ]
  }
 ],
 "metadata": {
  "kernelspec": {
   "display_name": "Python 3",
   "language": "python",
   "name": "python3"
  },
  "language_info": {
   "codemirror_mode": {
    "name": "ipython",
    "version": 3
   },
   "file_extension": ".py",
   "mimetype": "text/x-python",
   "name": "python",
   "nbconvert_exporter": "python",
   "pygments_lexer": "ipython3",
   "version": "3.7.6"
  }
 },
 "nbformat": 4,
 "nbformat_minor": 4
}
