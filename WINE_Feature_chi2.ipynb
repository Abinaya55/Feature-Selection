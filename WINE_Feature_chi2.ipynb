{
 "cells": [
  {
   "cell_type": "code",
   "execution_count": 22,
   "metadata": {},
   "outputs": [
    {
     "name": "stdout",
     "output_type": "stream",
     "text": [
      "                   names     accuracy\n",
      "6   total sulfur dioxide  3358.298433\n",
      "5    free sulfur dioxide   947.712845\n",
      "3         residual sugar   501.235224\n",
      "10               alcohol   155.078234\n",
      "1       volatile acidity    12.622636\n",
      "0          fixed acidity     7.922042\n",
      "4              chlorides     2.529005\n",
      "2            citric acid     0.851118\n",
      "                   names     accuracy\n",
      "6   total sulfur dioxide  3358.298433\n",
      "5    free sulfur dioxide   947.712845\n",
      "3         residual sugar   501.235224\n",
      "10               alcohol   155.078234\n",
      "1       volatile acidity    12.622636\n"
     ]
    }
   ],
   "source": [
    "import pandas as pd \n",
    "import numpy as np\n",
    "wine = pd.read_csv(\"winequality.csv\") # IMPORT THE DATASET\n",
    "#print(wine)\n",
    "\n",
    "attribute = ['fixed acidity', 'volatile acidity', 'citric acid', 'residual sugar', 'chlorides', 'free sulfur dioxide', 'total sulfur dioxide', 'density', 'pH', 'sulphates', 'alcohol']\n",
    "x=wine[attribute]\n",
    "# print(x)\n",
    "y=wine.quality\n",
    "# print(y)\n",
    "\n",
    "# FEATURE SELECTION - UNIVERATE SELECTION\n",
    "# CHI2 FEATURE SELECTION\n",
    "#(DO NOT ACCEPT NEGATIVE VALUES)\n",
    "\n",
    "from sklearn.feature_selection import SelectKBest\n",
    "from sklearn.feature_selection import chi2\n",
    "\n",
    "bestfeatures = SelectKBest(score_func=chi2, k=4)\n",
    "fit = bestfeatures.fit(x,y)\n",
    "\n",
    "dfscores = pd.DataFrame(fit.scores_)\n",
    "dfcolumns = pd.DataFrame(wine.columns)\n",
    "\n",
    "# CONCAT TWO DATAFRAMES FOR BETTER VISUALIZATION \n",
    "featureScores = pd.concat([dfcolumns,dfscores],axis=1)\n",
    "featureScores.columns = ['names','accuracy']  # NAMING THE DATAFRAME COLUMNS\n",
    "print(featureScores.nlargest(8,'accuracy'))  # PRINT THE BEST FEATURES\n",
    "\n",
    "dfscores = pd.DataFrame(fit.scores_)\n",
    "dfcolumns = pd.DataFrame(wine.columns)\n",
    "\n",
    "# CONCAT TWO DATAFRAMES FOR BETTER VISUALIZATION \n",
    "\n",
    "featureScores = pd.concat([dfcolumns,dfscores],axis=1)\n",
    "featureScores.columns = ['names','accuracy']           # NAMING THE DATAFRAME COLUMNS\n",
    "print(featureScores.nlargest(5,'accuracy'))            # PRINT THE BEST FEATURES"
   ]
  }
 ],
 "metadata": {
  "kernelspec": {
   "display_name": "Python 3",
   "language": "python",
   "name": "python3"
  },
  "language_info": {
   "codemirror_mode": {
    "name": "ipython",
    "version": 3
   },
   "file_extension": ".py",
   "mimetype": "text/x-python",
   "name": "python",
   "nbconvert_exporter": "python",
   "pygments_lexer": "ipython3",
   "version": "3.7.6"
  }
 },
 "nbformat": 4,
 "nbformat_minor": 4
}
